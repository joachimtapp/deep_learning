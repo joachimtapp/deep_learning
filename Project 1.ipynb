{
 "cells": [
  {
   "cell_type": "code",
   "execution_count": 1,
   "metadata": {},
   "outputs": [],
   "source": [
    "import torch\n",
    "from torch import nn\n",
    "from torch.autograd import Variable\n",
    "from torch.nn import functional as F\n",
    "import dlc_practical_prologue as prologue\n",
    "from torch import optim\n",
    "import matplotlib.pyplot as plt"
   ]
  },
  {
   "cell_type": "code",
   "execution_count": 2,
   "metadata": {},
   "outputs": [
    {
     "name": "stdout",
     "output_type": "stream",
     "text": [
      "torch.cuda.is_available()   = True\n",
      "torch.cuda.device_count()   = 1\n",
      "torch.cuda.device('cuda')   = <torch.cuda.device object at 0x000001F1032E09B0>\n",
      "torch.cuda.current_device() = 0\n"
     ]
    }
   ],
   "source": [
    "print(\"torch.cuda.is_available()   =\", torch.cuda.is_available())\n",
    "print(\"torch.cuda.device_count()   =\", torch.cuda.device_count())\n",
    "print(\"torch.cuda.device('cuda')   =\", torch.cuda.device('cuda'))\n",
    "print(\"torch.cuda.current_device() =\", torch.cuda.current_device())\n",
    "\n",
    "if torch.cuda.is_available():\n",
    "    device = torch.device('cuda')\n",
    "    torch.set_default_tensor_type('torch.cuda.FloatTensor')\n",
    "else:\n",
    "    device = torch.device('cpu')"
   ]
  },
  {
   "cell_type": "code",
   "execution_count": 3,
   "metadata": {},
   "outputs": [],
   "source": [
    "#generate train and test data\n",
    "#target classes: a>b->0   a<=b->1\n",
    "\n",
    "[train_input,train_target,train_classes,\n",
    " test_input,test_target,test_classes]=prologue.generate_pair_sets(1000)\n",
    "\n",
    "train_input, train_target = Variable(train_input), Variable(train_target)\n",
    "test_input, test_target = Variable(test_input), Variable(test_target)\n",
    "\n",
    "train_input, train_target,train_classes = train_input.to(device), train_target.to(device),train_classes.to(device)\n",
    "test_input, test_target,test_classes = test_input.to(device), test_target.to(device),test_classes.to(device)"
   ]
  },
  {
   "cell_type": "markdown",
   "metadata": {},
   "source": [
    "# Simple"
   ]
  },
  {
   "cell_type": "code",
   "execution_count": 4,
   "metadata": {},
   "outputs": [],
   "source": [
    "class ConvNet1(nn.Module):\n",
    "    def __init__(self):\n",
    "        super(ConvNet1, self).__init__()\n",
    "        nb_hidden=130\n",
    "        self.conv1 = nn.Conv2d(2, 32, kernel_size=7)\n",
    "        self.fc1 = nn.Linear(16* 32, nb_hidden)\n",
    "        self.fc2 = nn.Linear(nb_hidden, 2)\n",
    "\n",
    "    def forward(self, x):\n",
    "\n",
    "        x = F.max_pool2d(F.relu(self.conv1(x)), kernel_size=2)\n",
    "\n",
    "        x=x.view(-1, 16*32)\n",
    "\n",
    "        x = F.sigmoid(self.fc1(x))\n",
    "        x = self.fc2(x)\n",
    "        return x\n",
    "    \n",
    "class ConvNet2(nn.Module):\n",
    "    def __init__(self):\n",
    "        super(ConvNet2, self).__init__()\n",
    "        nb_hidden=90\n",
    "        self.conv1 = nn.Conv2d(2, 32, kernel_size=3)\n",
    "        self.conv2 = nn.Conv2d(32, 32, kernel_size=5)\n",
    "        self.fc1 = nn.Linear(16* 32, nb_hidden)\n",
    "        self.fc2 = nn.Linear(nb_hidden, 2)\n",
    "\n",
    "    def forward(self, x):\n",
    "\n",
    "        x = F.max_pool2d(F.relu(self.conv1(x)), kernel_size=1)\n",
    "        x = F.max_pool2d(F.relu(self.conv2(x)), kernel_size=2)\n",
    "\n",
    "        x=x.view(-1, 16*32)\n",
    "\n",
    "        x = F.sigmoid(self.fc1(x))\n",
    "        x = self.fc2(x)\n",
    "\n",
    "        return x \n",
    "    \n",
    "class ConvNet3(nn.Module):\n",
    "    def __init__(self):\n",
    "        super(ConvNet3, self).__init__()\n",
    "        nb_hidden=100\n",
    "        self.conv1 = nn.Conv2d(2, 64, kernel_size=4)\n",
    "        self.conv2 = nn.Conv2d(64, 32, kernel_size=5)\n",
    "        self.conv3 = nn.Conv2d(32, 32, kernel_size=2)\n",
    "        self.fc1 = nn.Linear(4* 32, nb_hidden)\n",
    "        self.fc2 = nn.Linear(nb_hidden, 2)\n",
    "\n",
    "    def forward(self, x):\n",
    "\n",
    "        x = F.max_pool2d(F.relu(self.conv1(x)), kernel_size=1)\n",
    "        x = F.max_pool2d(F.relu(self.conv2(x)), kernel_size=2)\n",
    "        x = F.max_pool2d(F.relu(self.conv3(x)), kernel_size=1)\n",
    "\n",
    "        x=x.view(-1, 4*32)\n",
    "\n",
    "        x = F.sigmoid(self.fc1(x))\n",
    "        x = self.fc2(x)\n",
    "\n",
    "        return x      "
   ]
  },
  {
   "cell_type": "markdown",
   "metadata": {},
   "source": [
    "# With weight sharing\n"
   ]
  },
  {
   "cell_type": "code",
   "execution_count": 5,
   "metadata": {},
   "outputs": [],
   "source": [
    "class ConvNet1_ws(nn.Module):\n",
    "    def __init__(self):\n",
    "        super(ConvNet1_ws, self).__init__()\n",
    "        nb_hidden=70\n",
    "        self.conv1 = nn.Conv2d(1, 32, kernel_size=7)\n",
    "        self.fc1 = nn.Linear(32* 32, nb_hidden)\n",
    "        self.fc2 = nn.Linear(nb_hidden, 2)\n",
    "\n",
    "    def forward(self, x):\n",
    "        x1=torch.zeros(mini_batch_size,1,14,14)   \n",
    "        x2=torch.zeros(mini_batch_size,1,14,14) \n",
    "        \n",
    "        x1[:,0,:,:]=x[:,0,:,:]\n",
    "        x2[:,0,:,:]=x[:,1,:,:]\n",
    "        x1 = F.max_pool2d(F.relu(self.conv1(x1)), kernel_size=2)\n",
    "        x2 = F.max_pool2d(F.relu(F.conv2d(x2,self.conv1.weight)), kernel_size=2)\n",
    "        x1=x1.view(-1, 16*32)\n",
    "        x2=x2.view(-1, 16*32)\n",
    "        x=torch.cat((x1,x2),1)\n",
    "        x = F.sigmoid(self.fc1(x))\n",
    "        x = self.fc2(x)\n",
    "\n",
    "        return x\n",
    " #2 conv layer   \n",
    "class ConvNet2_ws(nn.Module):\n",
    "    def __init__(self):\n",
    "        super(ConvNet2_ws, self).__init__()\n",
    "        nb_hidden=50\n",
    "        self.conv1 = nn.Conv2d(1, 32, kernel_size=3)\n",
    "        self.conv2 = nn.Conv2d(32, 32, kernel_size=5)\n",
    "        self.fc1 = nn.Linear(32* 32, nb_hidden)\n",
    "        self.fc2 = nn.Linear(nb_hidden, 2)\n",
    "\n",
    "    def forward(self, x):\n",
    "        x1=torch.zeros(mini_batch_size,1,14,14)   \n",
    "        x2=torch.zeros(mini_batch_size,1,14,14) \n",
    "        \n",
    "        x1[:,0,:,:]=x[:,0,:,:]\n",
    "        x2[:,0,:,:]=x[:,1,:,:]\n",
    "        x1 = F.max_pool2d(F.relu(self.conv1(x1)), kernel_size=1)\n",
    "        x2 = F.max_pool2d(F.relu(F.conv2d(x2,self.conv1.weight)), kernel_size=1)\n",
    "        \n",
    "        x1 = F.max_pool2d(F.relu(self.conv2(x1)), kernel_size=2)\n",
    "        x2 = F.max_pool2d(F.relu(F.conv2d(x2,self.conv2.weight)), kernel_size=2)\n",
    "        \n",
    "        x1=x1.view(-1, 16*32)\n",
    "        x2=x2.view(-1, 16*32)\n",
    "        x=torch.cat((x1,x2),1)\n",
    "        x = F.sigmoid(self.fc1(x))\n",
    "        x = self.fc2(x)\n",
    "        return x  \n",
    "    \n",
    "\n",
    " #3 conv layer   \n",
    "class ConvNet3_ws(nn.Module):\n",
    "    def __init__(self):\n",
    "        super(ConvNet3_ws, self).__init__()\n",
    "        nb_hidden=150\n",
    "        self.conv1 = nn.Conv2d(1, 32, kernel_size=4)\n",
    "        self.conv2 = nn.Conv2d(32, 32, kernel_size=5)\n",
    "        self.conv3 = nn.Conv2d(32, 32, kernel_size=2)\n",
    "        \n",
    "        self.fc1 = nn.Linear(8* 32, nb_hidden)\n",
    "        self.fc2 = nn.Linear(nb_hidden, 2)\n",
    "\n",
    "    def forward(self, x):\n",
    "        x1=torch.zeros(mini_batch_size,1,14,14)   \n",
    "        x2=torch.zeros(mini_batch_size,1,14,14) \n",
    "        \n",
    "        x1[:,0,:,:]=x[:,0,:,:]\n",
    "        x2[:,0,:,:]=x[:,1,:,:]\n",
    "        x1 = F.max_pool2d(F.relu(self.conv1(x1)), kernel_size=1)\n",
    "        x2 = F.max_pool2d(F.relu(F.conv2d(x2,self.conv1.weight)), kernel_size=1)\n",
    "        \n",
    "        x1 = F.max_pool2d(F.relu(self.conv2(x1)), kernel_size=2)\n",
    "        x2 = F.max_pool2d(F.relu(F.conv2d(x2,self.conv2.weight)), kernel_size=2)\n",
    "        \n",
    "        x1 = F.max_pool2d(F.relu(self.conv3(x1)), kernel_size=1)\n",
    "        x2 = F.max_pool2d(F.relu(F.conv2d(x2,self.conv3.weight)), kernel_size=1)\n",
    "        x1=x1.view(-1, 4*32)\n",
    "        x2=x2.view(-1, 4*32)\n",
    "        x=torch.cat((x1,x2),1)\n",
    "        x = F.sigmoid(self.fc1(x))\n",
    "        x = self.fc2(x)\n",
    "        return x\n",
    "    \n",
    "#6 conv layer   \n",
    "class ConvNet6_ws(nn.Module):\n",
    "    def __init__(self):\n",
    "        super(ConvNet6_ws, self).__init__()\n",
    "        nb_hidden=130\n",
    "        self.conv1 = nn.Conv2d(1, 32, kernel_size=5)\n",
    "        self.conv2 = nn.Conv2d(32, 32, kernel_size=3)\n",
    "        self.conv3 = nn.Conv2d(32, 32, kernel_size=3)\n",
    "        self.conv4 = nn.Conv2d(32, 32, kernel_size=3)\n",
    "        self.conv5 = nn.Conv2d(32, 32, kernel_size=2)\n",
    "        self.conv6 = nn.Conv2d(32, 32, kernel_size=2)\n",
    "        self.fc1 = nn.Linear(8* 32, nb_hidden)\n",
    "        self.fc2 = nn.Linear(nb_hidden, 2)\n",
    "\n",
    "    def forward(self, x):\n",
    "        x1=torch.zeros(mini_batch_size,1,14,14)   \n",
    "        x2=torch.zeros(mini_batch_size,1,14,14) \n",
    "        \n",
    "        x1[:,0,:,:]=x[:,0,:,:]\n",
    "        x2[:,0,:,:]=x[:,1,:,:]\n",
    "        x1 = F.relu(self.conv1(x1))\n",
    "        x2 = F.relu(F.conv2d(x2,self.conv1.weight))\n",
    "        \n",
    "        x1 = F.max_pool2d(F.relu(self.conv2(x1)), kernel_size=1)\n",
    "        x2 = F.max_pool2d(F.relu(F.conv2d(x2,self.conv2.weight)), kernel_size=1)\n",
    "        \n",
    "        x1 = F.max_pool2d(F.relu(self.conv3(x1)), kernel_size=1)\n",
    "        x2 = F.max_pool2d(F.relu(F.conv2d(x2,self.conv3.weight)), kernel_size=1)\n",
    "        \n",
    "        x1 = F.max_pool2d(F.relu(self.conv4(x1)), kernel_size=1)\n",
    "        x2 = F.max_pool2d(F.relu(F.conv2d(x2,self.conv4.weight)), kernel_size=1)\n",
    "        \n",
    "        x1 = F.max_pool2d(F.relu(self.conv5(x1)), kernel_size=1)\n",
    "        x2 = F.max_pool2d(F.relu(F.conv2d(x2,self.conv5.weight)), kernel_size=1)\n",
    "        \n",
    "        x1 = F.max_pool2d(F.relu(self.conv6(x1)), kernel_size=1)\n",
    "        x2 = F.max_pool2d(F.relu(F.conv2d(x2,self.conv6.weight)), kernel_size=1)\n",
    "        \n",
    "        \n",
    "        x1=x1.view(-1, 4*32)\n",
    "        x2=x2.view(-1, 4*32)\n",
    "        x=torch.cat((x1,x2),1)\n",
    "        x = F.sigmoid(self.fc1(x))\n",
    "        x = self.fc2(x)\n",
    "        return x"
   ]
  },
  {
   "cell_type": "markdown",
   "metadata": {},
   "source": [
    "# With auxiliary loss"
   ]
  },
  {
   "cell_type": "code",
   "execution_count": 6,
   "metadata": {},
   "outputs": [],
   "source": [
    "class ConvNet2_al(nn.Module):\n",
    "    def __init__(self):\n",
    "        super(ConvNet2_al, self).__init__()\n",
    "        nb_hidden=80\n",
    "        self.conv1 = nn.Conv2d(1, 16, kernel_size=3)\n",
    "        self.conv2 = nn.Conv2d(16, 32, kernel_size=9)\n",
    "        \n",
    "        self.lin_aux1 = nn.Linear(4* 32, 100)\n",
    "        self.lin_aux2 = nn.Linear(100, 10)\n",
    "                \n",
    "        self.fc1 = nn.Linear(8* 32, nb_hidden)\n",
    "        self.fc2 = nn.Linear(nb_hidden, 2)\n",
    "\n",
    "    def forward(self, x):\n",
    "        x1=torch.zeros(mini_batch_size,1,14,14)   \n",
    "        x2=torch.zeros(mini_batch_size,1,14,14) \n",
    "        \n",
    "        x1[:,0,:,:]=x[:,0,:,:]\n",
    "        x2[:,0,:,:]=x[:,1,:,:]\n",
    "        x1 = F.max_pool2d(F.relu(self.conv1(x1)), kernel_size=1)\n",
    "        x2 = F.max_pool2d(F.relu(F.conv2d(x2,self.conv1.weight)), kernel_size=1)\n",
    "        \n",
    "        x1 = F.max_pool2d(F.relu(self.conv2(x1)), kernel_size=2)\n",
    "        x2 = F.max_pool2d(F.relu(F.conv2d(x2,self.conv2.weight)), kernel_size=2)\n",
    "        \n",
    "        x1=x1.view(-1, 4*32)\n",
    "        x2=x2.view(-1, 4*32)\n",
    "        \n",
    "        x1_aux=torch.sigmoid(self.lin_aux1(x1))\n",
    "        x1_aux=self.lin_aux2(x1_aux)\n",
    "        \n",
    "        x2_aux=torch.sigmoid(self.lin_aux1(x2))\n",
    "        x2_aux=self.lin_aux2(x2_aux)\n",
    "        \n",
    "        x = torch.cat((x1,x2),1)\n",
    "        x = torch.sigmoid(self.fc1(x))\n",
    "        x = self.fc2(x)\n",
    "        return x,x1_aux,x2_aux\n",
    "\n",
    "class ConvNet3_al(nn.Module):\n",
    "    def __init__(self):\n",
    "        super(ConvNet3_al, self).__init__()\n",
    "        nb_hidden=120\n",
    "        self.conv1 = nn.Conv2d(1, 16, kernel_size=3)\n",
    "        self.conv2 = nn.Conv2d(16, 16, kernel_size=9)\n",
    "        self.conv3 = nn.Conv2d(16, 32, kernel_size=3)\n",
    "        \n",
    "        self.lin_aux1 = nn.Linear(4* 32, 100)\n",
    "        self.lin_aux2 = nn.Linear(100, 10)\n",
    "                \n",
    "        self.fc1 = nn.Linear(8* 32, nb_hidden)\n",
    "        self.fc2 = nn.Linear(nb_hidden, 2)\n",
    "\n",
    "    def forward(self, x):\n",
    "        x1=torch.zeros(mini_batch_size,1,14,14)   \n",
    "        x2=torch.zeros(mini_batch_size,1,14,14) \n",
    "        \n",
    "        x1[:,0,:,:]=x[:,0,:,:]\n",
    "        x2[:,0,:,:]=x[:,1,:,:]\n",
    "        x1 = F.max_pool2d(F.relu(self.conv1(x1)), kernel_size=1)\n",
    "        x2 = F.max_pool2d(F.relu(F.conv2d(x2,self.conv1.weight)), kernel_size=1)\n",
    "        \n",
    "        x1 = F.max_pool2d(F.relu(self.conv2(x1)), kernel_size=1)\n",
    "        x2 = F.max_pool2d(F.relu(F.conv2d(x2,self.conv2.weight)), kernel_size=1)\n",
    "        \n",
    "        x1 = F.max_pool2d(F.relu(self.conv3(x1)), kernel_size=1)\n",
    "        x2 = F.max_pool2d(F.relu(F.conv2d(x2,self.conv3.weight)), kernel_size=1)\n",
    "        x1=x1.view(-1, 4*32)\n",
    "        x2=x2.view(-1, 4*32)\n",
    "        \n",
    "        x1_aux=torch.sigmoid(self.lin_aux1(x1))\n",
    "        x1_aux=self.lin_aux2(x1_aux)\n",
    "        \n",
    "        x2_aux=torch.sigmoid(self.lin_aux1(x2))\n",
    "        x2_aux=self.lin_aux2(x2_aux)\n",
    "        \n",
    "        x = torch.cat((x1,x2),1)\n",
    "        x = torch.sigmoid(self.fc1(x))\n",
    "        x = self.fc2(x)\n",
    "        return x,x1_aux,x2_aux"
   ]
  },
  {
   "cell_type": "code",
   "execution_count": 7,
   "metadata": {},
   "outputs": [],
   "source": [
    "def train_model(model, train_input, train_target, mini_batch_size,nb_epochs):\n",
    "    criterion = nn.CrossEntropyLoss()\n",
    "    criterion=criterion.to(device)\n",
    "\n",
    "    optimizer = optim.SGD(model.parameters(),lr=1e-2)\n",
    "    for e in range(nb_epochs):\n",
    "        sum_loss = 0\n",
    "        for b in range(0, train_input.size(0), mini_batch_size):\n",
    "            model.zero_grad()\n",
    "            output = model(train_input.narrow(0, b, mini_batch_size))   \n",
    "            loss = criterion(output, train_target.narrow(0, b, mini_batch_size))\n",
    "            \n",
    "            loss.backward()\n",
    "            optimizer.step()\n",
    "            sum_loss += loss.data\n",
    "#         print(e, sum_loss)\n",
    "\n",
    "def compute_nb_errors(model, input, target, mini_batch_size):\n",
    "    nb_errors = 0\n",
    "\n",
    "    for b in range(0, input.size(0), mini_batch_size):\n",
    "        output = model(input.narrow(0, b, mini_batch_size))\n",
    "        _, predicted_classes = torch.max(output.data, 1)\n",
    "        for k in range(mini_batch_size):\n",
    "            if target.data[b + k]!= predicted_classes[k]:\n",
    "                nb_errors = nb_errors + 1\n",
    "\n",
    "    return nb_errors\n",
    "\n"
   ]
  },
  {
   "cell_type": "code",
   "execution_count": 8,
   "metadata": {},
   "outputs": [],
   "source": [
    "def train_model_al(model, train_input, train_target, mini_batch_size,nb_epochs):\n",
    "    criterion = nn.CrossEntropyLoss()\n",
    "    criterion=criterion.to(device)\n",
    "\n",
    "    optimizer = optim.SGD(model.parameters(),lr=1e-2)\n",
    "    \n",
    "    for e in range(nb_epochs):\n",
    "        sum_loss = 0\n",
    "        for b in range(0, train_input.size(0), mini_batch_size):\n",
    "            model.zero_grad()\n",
    "            output = model(train_input.narrow(0, b, mini_batch_size))  \n",
    "            loss = criterion(output[0], train_target.narrow(0, b, mini_batch_size))\n",
    "            loss1=criterion(output[1], train_classes[:,0].narrow(0, b, mini_batch_size))\n",
    "            loss2=criterion(output[2], train_classes[:,1].narrow(0, b, mini_batch_size))\n",
    "            loss=4*loss+loss1+loss2\n",
    "            loss.backward()\n",
    "            optimizer.step()\n",
    "            sum_loss += loss.data\n",
    "            del loss,loss1,loss2\n",
    "#         print(e, sum_loss)\n",
    "        \n",
    "def compute_nb_errors_al(model, input, target, mini_batch_size):\n",
    "    nb_errors = 0\n",
    "\n",
    "    for b in range(0, input.size(0), mini_batch_size):\n",
    "        output = model(input.narrow(0, b, mini_batch_size))\n",
    "        _, predicted_classes = torch.max(output[0].data, 1)\n",
    "        for k in range(mini_batch_size):\n",
    "            if target.data[b + k]!= predicted_classes[k]:\n",
    "                nb_errors = nb_errors + 1\n",
    "\n",
    "    return nb_errors\n"
   ]
  },
  {
   "cell_type": "code",
   "execution_count": 9,
   "metadata": {
    "scrolled": true
   },
   "outputs": [
    {
     "name": "stdout",
     "output_type": "stream",
     "text": [
      "25 epochs 9.60% \n",
      "mean 9.60%\n"
     ]
    }
   ],
   "source": [
    "#best with 1000 sample, 25 epochs and ~70'000 parameters is convnet3_al mini_batch_size=10 \n",
    "#best of all 5000 samples,25 epochs convnet3_al mini batch=20 ~3%\n",
    "mini_batch_size=10\n",
    "nb_epoch=25\n",
    "\n",
    "nb_test_errors_cum=0;\n",
    "for i in range(1):\n",
    "    model=ConvNet3_al()\n",
    "    model.to(device)\n",
    "    train_model_al(model, train_input, train_target.to(device),mini_batch_size,nb_epoch)\n",
    "    nb_test_errors=compute_nb_errors_al(model, test_input, test_target,mini_batch_size)\n",
    "    nb_test_errors_cum += nb_test_errors\n",
    "    print('{:d} epochs {:0.2f}% '.format(nb_epoch,(100 * nb_test_errors) / test_input.size(0)))\n",
    "nb_test_errors_cum/=i+1;    \n",
    "print('mean {:0.2f}%'.format((100 * nb_test_errors_cum) / test_input.size(0)))\n"
   ]
  },
  {
   "cell_type": "markdown",
   "metadata": {},
   "source": [
    "# plots"
   ]
  },
  {
   "cell_type": "markdown",
   "metadata": {
    "scrolled": true
   },
   "source": [
    "\n",
    "#error in function of batch size\n",
    "\n",
    "mini_batch_size=100;\n",
    "n_hidden=200\n",
    "result=torch.zeros(7,1)\n",
    "model=ConvNet3_al(n_hidden)\n",
    "i=0\n",
    "for nb_epoch in [5,8,10,15,20,30,40]:\n",
    "    for j in range(4):\n",
    "        model.to(device)\n",
    "        train_model_al(model, train_input, train_target.cuda(),mini_batch_size,nb_epoch)\n",
    "        nb_test_errors = compute_nb_errors_al(model, test_input, test_target,mini_batch_size)\n",
    "        print('{:d} epochs {:0.2f}% {:f}/{:d}'.format(nb_epoch,(100 * nb_test_errors) / test_input.size(0),\n",
    "                                                          nb_test_errors, test_input.size(0)))\n",
    "        result[i]+=(100 * nb_test_errors) / test_input.size(0)\n",
    "\n",
    "    i+=1\n",
    "fig=plt.figure(figsize=(8, 8))\n",
    "plt.plot([5,8,10,15,20,30,40],(1-result.cpu().numpy()/4/100))\n",
    "plt.xlabel('nb epochs')\n",
    "plt.ylabel('Correct answer')\n",
    "plt.show()        "
   ]
  },
  {
   "cell_type": "code",
   "execution_count": 10,
   "metadata": {},
   "outputs": [
    {
     "data": {
      "image/png": "[encoded data removed]",
      "text/plain": [
       "<Figure size 576x576 with 1 Axes>"
      ]
     },
     "metadata": {
      "needs_background": "light"
     },
     "output_type": "display_data"
    }
   ],
   "source": [
    "#plot correct choice vs the decision line\n",
    "\n",
    "mini_batch_size=test_target.size()[0];\n",
    "output = model(test_input.narrow(0, 0, mini_batch_size))\n",
    "fig=plt.figure(figsize=(8, 8))\n",
    "color=test_target.cpu()\n",
    "plt.plot([torch.min(output[0]),torch.max(output[0])],[torch.min(output[0]),torch.max(output[0])],c='r')\n",
    "plt.scatter(output[0].cpu().detach().numpy()[:,0],output[0].cpu().detach().numpy()[:,1],c=color)\n",
    "plt.show()\n"
   ]
  },
  {
   "cell_type": "code",
   "execution_count": 11,
   "metadata": {},
   "outputs": [
    {
     "data": {
      "image/png": "[encoded data removed]",
      "text/plain": [
       "<Figure size 576x576 with 2 Axes>"
      ]
     },
     "metadata": {
      "needs_background": "light"
     },
     "output_type": "display_data"
    }
   ],
   "source": [
    "#plot the spacialization colored by the number\n",
    "\n",
    "mini_batch_size=test_target.size()[0];\n",
    "output = model(test_input.narrow(0, 0, mini_batch_size))\n",
    "fig=plt.figure(figsize=(8, 8))\n",
    "color=test_classes[:,1].cpu()\n",
    "plt.scatter(output[0].cpu().detach().numpy()[:,0],output[0].cpu().detach().numpy()[:,1],c=color)\n",
    "plt.colorbar()\n",
    "plt.show()"
   ]
  },
  {
   "cell_type": "markdown",
   "metadata": {},
   "source": [
    "# utilitary"
   ]
  },
  {
   "cell_type": "code",
   "execution_count": 12,
   "metadata": {},
   "outputs": [
    {
     "data": {
      "text/plain": [
       "70544"
      ]
     },
     "execution_count": 12,
     "metadata": {},
     "output_type": "execute_result"
    }
   ],
   "source": [
    "model=ConvNet3_al()\n",
    "sum(p.numel() for p in model.parameters() )"
   ]
  },
  {
   "cell_type": "code",
   "execution_count": null,
   "metadata": {},
   "outputs": [],
   "source": []
  }
 ],
 "metadata": {
  "kernelspec": {
   "display_name": "Python 3",
   "language": "python",
   "name": "python3"
  },
  "language_info": {
   "codemirror_mode": {
    "name": "ipython",
    "version": 3
   },
   "file_extension": ".py",
   "mimetype": "text/x-python",
   "name": "python",
   "nbconvert_exporter": "python",
   "pygments_lexer": "ipython3",
   "version": "3.7.0"
  }
 },
 "nbformat": 4,
 "nbformat_minor": 2
}

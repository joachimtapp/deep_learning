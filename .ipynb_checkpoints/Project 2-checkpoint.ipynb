{
 "cells": [
  {
   "cell_type": "code",
   "execution_count": 66,
   "metadata": {},
   "outputs": [
    {
     "data": {
      "text/plain": [
       "<torch.autograd.grad_mode.set_grad_enabled at 0x1f2ce541a90>"
      ]
     },
     "execution_count": 66,
     "metadata": {},
     "output_type": "execute_result"
    }
   ],
   "source": [
    "import torch\n",
    "import math\n",
    "torch.set_grad_enabled (False)"
   ]
  },
  {
   "cell_type": "code",
   "execution_count": 155,
   "metadata": {},
   "outputs": [],
   "source": [
    "class Tanh():\n",
    "    def forward(self, *input):\n",
    "        return input[0][0].tanh()\n",
    "    \n",
    "    def backward(self, *gradwrtoutput):\n",
    "        x=gradwrtoutput[0][0]\n",
    "        dl=4 * (x.exp() + x.mul(-1).exp()).pow(-2)\n",
    "        raise NotImplementedError \n",
    "    \n",
    "    def param(self):\n",
    "        return []\n",
    "    \n",
    "class Relu():\n",
    "    def forward(self, *input):\n",
    "        return input[0][0].relu()\n",
    "    \n",
    "    def backward(self, *gradwrtoutput):\n",
    "        raise NotImplementedError \n",
    "    \n",
    "    def param(self):\n",
    "        return []\n",
    "    \n",
    "#  input in a tuple of tensor composed of the weights, the bias and the input vector   \n",
    "# and return a tuple composed of the in put vector and the output vector\n",
    "class Linear():\n",
    "    def forward(self, *input):\n",
    "        w=input[0][0]\n",
    "        b=input[0][1]\n",
    "        x=input[0][2]\n",
    "        return x,w*x+b\n",
    "    \n",
    "    def backward(self, *gradwrtoutput):\n",
    "        raise NotImplementedError \n",
    "    \n",
    "    def param(self):\n",
    "        return []\n",
    "    "
   ]
  },
  {
   "cell_type": "code",
   "execution_count": 156,
   "metadata": {},
   "outputs": [
    {
     "data": {
      "text/plain": [
       "(tensor([1., 2., 3., 4.]), tensor([3., 5., 7., 9.]))"
      ]
     },
     "execution_count": 156,
     "metadata": {},
     "output_type": "execute_result"
    }
   ],
   "source": [
    "a=Linear()\n",
    "test=[torch.ones(4)*2, torch.ones(4)*1 ,torch.tensor([1,2,3,4]).float()]\n",
    "a.forward(test)"
   ]
  },
  {
   "cell_type": "code",
   "execution_count": null,
   "metadata": {},
   "outputs": [],
   "source": []
  },
  {
   "cell_type": "code",
   "execution_count": null,
   "metadata": {},
   "outputs": [],
   "source": []
  }
 ],
 "metadata": {
  "kernelspec": {
   "display_name": "Python 3",
   "language": "python",
   "name": "python3"
  },
  "language_info": {
   "codemirror_mode": {
    "name": "ipython",
    "version": 3
   },
   "file_extension": ".py",
   "mimetype": "text/x-python",
   "name": "python",
   "nbconvert_exporter": "python",
   "pygments_lexer": "ipython3",
   "version": "3.7.0"
  }
 },
 "nbformat": 4,
 "nbformat_minor": 2
}
